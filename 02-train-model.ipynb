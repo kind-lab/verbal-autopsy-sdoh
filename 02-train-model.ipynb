{
 "cells": [
  {
   "cell_type": "code",
   "execution_count": null,
   "id": "6844e035-3a6c-4c9f-a2d2-7c7fac543859",
   "metadata": {},
   "outputs": [],
   "source": [
    "import pandas as pd\n",
    "import numpy as np\n",
    "from transformers import AutoTokenizer"
   ]
  },
  {
   "cell_type": "code",
   "execution_count": null,
   "id": "434ce5de-4755-420d-bd3b-71e2a2df485f",
   "metadata": {},
   "outputs": [],
   "source": [
    "df = pd.read_csv('data/processed/merged_dataset.csv')\n",
    "df.head()"
   ]
  },
  {
   "cell_type": "code",
   "execution_count": null,
   "id": "2ef4bfc2-00f3-4512-aed3-a0f5b667a1ea",
   "metadata": {},
   "outputs": [],
   "source": [
    "tokenizer = AutoTokenizer.from_pretrained(\"bert-base-uncased\")"
   ]
  },
  {
   "cell_type": "code",
   "execution_count": null,
   "id": "c38297e4-d720-4d9e-aa54-f9caf3a39ff0",
   "metadata": {},
   "outputs": [],
   "source": [
    "sentences = df['open_response'].tolist()\n",
    "encoded = tokenizer(sentences, truncation=False)\n",
    "\n",
    "seq_lengths = [np.count_nonzero(x) for x in encoded['input_ids']]\n",
    "idx_long_seq = [i for i, x in enumerate(seq_lengths) if x > 512]\n",
    "print(f'{len(idx_long_seq)} sentences longer than 512 tokens.')\n",
    "print(f'Lengths: {sorted([seq_lengths[i] for i in idx_long_seq])}')\n",
    "# for i in idx_long_seq[:1]:\n",
    "#     print(tokenizer.decode(encoded['input_ids'][i]))"
   ]
  },
  {
   "cell_type": "markdown",
   "id": "c49c3b4e-56cb-4dbd-ac6b-640c670a5550",
   "metadata": {},
   "source": [
    "Given the existence of sentences longer than 512, we must truncate or split in some way. As it is a small number of records, we choose to truncate."
   ]
  },
  {
   "cell_type": "markdown",
   "id": "1e25713a-c8ae-4a3e-94e3-1957970c36f7",
   "metadata": {},
   "source": [
    "## Prepare in huggingface.datasets"
   ]
  },
  {
   "cell_type": "code",
   "execution_count": null,
   "id": "edacef32-804a-4930-b443-dc932eab6f8e",
   "metadata": {},
   "outputs": [],
   "source": [
    "from sklearn.model_selection import train_test_split\n",
    "# from numpy.random import default_rng\n",
    "# rng = default_rng(87)\n",
    "\n",
    "documents = df['open_response'].tolist()\n",
    "label2id = {\n",
    "    'No Schooling': 0,\n",
    "    'Primary School': 1,\n",
    "    'High School': 2,\n",
    "    'College or Higher': 3\n",
    "}\n",
    "labels = df['g5_06a'].map(label2id).tolist()\n",
    "\n",
    "# convert \n",
    "# create train/test split\n",
    "train_texts, test_texts, train_labels, test_labels = train_test_split(documents, labels, test_size=.15, random_state=8573)\n",
    "\n",
    "# create train/validation split\n",
    "train_texts, val_texts, train_labels, val_labels = train_test_split(train_texts, train_labels, test_size=.15, random_state=3820)\n",
    "\n",
    "\n",
    "# tokenize \n",
    "tokenizer = AutoTokenizer.from_pretrained(\"bert-base-uncased\")\n",
    "train_encodings = tokenizer(train_texts, truncation=True, padding=True)\n",
    "val_encodings = tokenizer(val_texts, truncation=True, padding=True)\n",
    "test_encodings = tokenizer(test_texts, truncation=True, padding=True)\n",
    "\n",
    "\n",
    "# create a class for the dataset\n",
    "import torch\n",
    "\n",
    "class VerbalAutopsyDataset(torch.utils.data.Dataset):\n",
    "    def __init__(self, encodings, labels):\n",
    "        self.encodings = encodings\n",
    "        self.labels = labels\n",
    "\n",
    "    def __getitem__(self, idx):\n",
    "        item = {key: torch.tensor(val[idx]) for key, val in self.encodings.items()}\n",
    "        item['labels'] = torch.tensor(self.labels[idx])\n",
    "        return item\n",
    "\n",
    "    def __len__(self):\n",
    "        return len(self.labels)\n",
    "\n",
    "train_dataset = VerbalAutopsyDataset(train_encodings, train_labels)\n",
    "val_dataset = VerbalAutopsyDataset(val_encodings, val_labels)\n",
    "test_dataset = VerbalAutopsyDataset(test_encodings, test_labels)\n"
   ]
  },
  {
   "cell_type": "markdown",
   "id": "38a26179-5ca5-49be-80ef-675b7e04fde8",
   "metadata": {},
   "source": [
    "Fine tune the BERT model using the created dataset."
   ]
  },
  {
   "cell_type": "code",
   "execution_count": null,
   "id": "dc540192-9124-4261-9567-defbfc2c4ae5",
   "metadata": {},
   "outputs": [],
   "source": [
    "from transformers import BertForSequenceClassification, Trainer, TrainingArguments\n",
    "\n",
    "training_args = TrainingArguments(\n",
    "    output_dir='./results',          # output directory\n",
    "    num_train_epochs=3,              # total number of training epochs\n",
    "    per_device_train_batch_size=16,  # batch size per device during training\n",
    "    per_device_eval_batch_size=64,   # batch size for evaluation\n",
    "    warmup_steps=500,                # number of warmup steps for learning rate scheduler\n",
    "    weight_decay=0.01,               # strength of weight decay\n",
    "    logging_dir='./logs',            # directory for storing logs\n",
    "    logging_steps=10,\n",
    ")\n",
    "\n",
    "model = BertForSequenceClassification.from_pretrained(\"bert-base-uncased\", num_labels=4)\n",
    "\n",
    "trainer = Trainer(\n",
    "    model=model,                         # the instantiated 🤗 Transformers model to be trained\n",
    "    args=training_args,                  # training arguments, defined above\n",
    "    train_dataset=train_dataset,         # training dataset\n",
    "    eval_dataset=val_dataset             # evaluation dataset\n",
    ")\n",
    "\n",
    "trainer.train()"
   ]
  }
 ],
 "metadata": {
  "kernelspec": {
   "display_name": "Python 3 (ipykernel)",
   "language": "python",
   "name": "python3"
  },
  "language_info": {
   "codemirror_mode": {
    "name": "ipython",
    "version": 3
   },
   "file_extension": ".py",
   "mimetype": "text/x-python",
   "name": "python",
   "nbconvert_exporter": "python",
   "pygments_lexer": "ipython3",
   "version": "3.9.13"
  }
 },
 "nbformat": 4,
 "nbformat_minor": 5
}
